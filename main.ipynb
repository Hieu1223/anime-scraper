{
 "cells": [
  {
   "cell_type": "code",
   "execution_count": 96,
   "id": "d6d19a4c",
   "metadata": {},
   "outputs": [],
   "source": [
    "from lxml import html\n",
    "import re\n",
    "import requests"
   ]
  },
  {
   "cell_type": "code",
   "execution_count": 93,
   "id": "ced5240b",
   "metadata": {},
   "outputs": [],
   "source": [
    "page = requests.get(\"https://wibu47.com/xem-phim/hellsing-ultimate/7\")\n",
    "page = html.fromstring(page.text)"
   ]
  },
  {
   "cell_type": "code",
   "execution_count": 103,
   "id": "64c4be13",
   "metadata": {},
   "outputs": [
    {
     "data": {
      "text/plain": [
       "{'HYDRAX': 'https://playhydrax.com/?v=suY5x1ytrF',\n",
       " 'VPRO': 'https://embed1.streamc.xyz/embed.php?hash=8bf5d7c0125eb75c785875ec0bd13153',\n",
       " 'AHS': 'https://hls1.streamc.xyz/8bf5d7c0125eb75c785875ec0bd13153/hls.m3u8'}"
      ]
     },
     "execution_count": 103,
     "metadata": {},
     "output_type": "execute_result"
    }
   ],
   "source": [
    "def extract_mirrors(tree):\n",
    "    # Get all <script> elements\n",
    "    scripts = tree.xpath('//script')\n",
    "    \n",
    "    # Regex to match JS variables assigned non-empty URLs\n",
    "    pattern = r'var\\s+(\\w+)\\s*=\\s*\"((?:https?://)[^\"]+)\"'\n",
    "    \n",
    "    result = {}\n",
    "    for script in scripts:\n",
    "        script_text = script.text or \"\"  # handle empty scripts\n",
    "        for var, url in re.findall(pattern, script_text):\n",
    "            result[var] = url\n",
    "    return result\n",
    "extract_mirrors(page)"
   ]
  },
  {
   "cell_type": "code",
   "execution_count": 108,
   "id": "7c26f4f8",
   "metadata": {},
   "outputs": [],
   "source": [
    "def get_page_link(page:int):\n",
    "    return f\"https://wibu47.com/the-loai/anime?page={page}\"\n",
    "link = get_page_link(1)\n",
    "page = requests.get(link).text\n",
    "page = html.fromstring(page)"
   ]
  },
  {
   "cell_type": "code",
   "execution_count": 118,
   "id": "8f31cdbe",
   "metadata": {},
   "outputs": [],
   "source": [
    "base_url = \"https://wibu47.com\"\n",
    "def parse_anime_article(article):\n",
    "\n",
    "    data = {}\n",
    "\n",
    "    # link\n",
    "    link = article.xpath('.//a/@href')\n",
    "    data['link'] =base_url + link[0] if link else None\n",
    "\n",
    "    # thumbnail image src\n",
    "    img = article.xpath('.//img[contains(@class,\"wp-post-image\")]/@src')\n",
    "    data['thumbnail'] = img[0] if img else None\n",
    "\n",
    "    # episode\n",
    "    episode = article.xpath('.//span[@class=\"mli-eps\"]/text()')\n",
    "    data['episode'] = episode[0].strip() if episode else None\n",
    "\n",
    "    # rating\n",
    "    rating = article.xpath('.//div[contains(@class,\"anime-avg-user-rating\")]/text()')\n",
    "    data['rating'] = rating[0].strip() if rating else None\n",
    "\n",
    "    # title\n",
    "    title = article.xpath('.//h2[@class=\"Title\"]/text()')\n",
    "    data['title'] = title[0].strip() if title else None\n",
    "\n",
    "    # views\n",
    "    views = article.xpath('.//span[@class=\"Year\"]/text()')\n",
    "    data['views'] = views[0].replace('Lượt xem:','').strip() if views else None\n",
    "\n",
    "    # quality, vote, time, date\n",
    "    info = article.xpath('.//p[@class=\"Info\"]')\n",
    "    if info:\n",
    "        info = info[0]\n",
    "        q = info.xpath('.//span[@class=\"Qlty\"]/text()')\n",
    "        v = info.xpath('.//span[contains(@class,\"Vote\")]/text()')\n",
    "        t = info.xpath('.//span[contains(@class,\"Time\")]/text()')\n",
    "        d = info.xpath('.//span[contains(@class,\"Date\")]/text()')\n",
    "        data['quality'] = q[0].strip() if q else None\n",
    "        data['vote'] = v[0].strip() if v else None\n",
    "        data['time'] = t[0].strip() if t else None\n",
    "        data['date'] = d[0].strip() if d else None\n",
    "    else:\n",
    "        data['quality'] = data['vote'] = data['time'] = data['date'] = None\n",
    "\n",
    "    # description\n",
    "    desc = article.xpath('.//div[@class=\"Description\"]/p[1]/text()')\n",
    "    data['description'] = desc[0].strip() if desc else None\n",
    "\n",
    "    # genre\n",
    "    genre = article.xpath('.//p[contains(@class,\"Genre\")]/span/text()')\n",
    "    data['genre'] = genre[0].replace('Thể loại:','').strip() if genre else None\n",
    "\n",
    "    return data"
   ]
  },
  {
   "cell_type": "code",
   "execution_count": 120,
   "id": "4cb0fac6",
   "metadata": {},
   "outputs": [],
   "source": [
    "def get_animes_in_page(page):\n",
    "    return page.find_class(\"TPost C post-943 post type-post status-publish format-standard has-post-thumbnail hentry\")"
   ]
  },
  {
   "cell_type": "code",
   "execution_count": 119,
   "id": "c2c8eb8d",
   "metadata": {},
   "outputs": [
    {
     "data": {
      "text/plain": [
       "{'link': 'https://wibu47.com/phim/eiyuu-ou-bu-o-kiwameru-tame-tensei-su-soshite-sekai-saikyou-no-minarai-kishi/',\n",
       " 'thumbnail': 'https://wibu47.com/images/3694.jpg',\n",
       " 'episode': 'TẬP',\n",
       " 'rating': '8.6',\n",
       " 'title': 'Eiyuu-ou, bu o Kiwameru tame tensei su - Soshite, Sekai Saikyou no Minarai Kishi ♀~',\n",
       " 'views': '33,408',\n",
       " 'quality': 'HD',\n",
       " 'vote': '9.3',\n",
       " 'time': '06/12',\n",
       " 'date': '2023',\n",
       " 'description': 'Từ trên giường bệnh, Vua anh hùng Inglis đã nhìn xuống đế chế mà anh đã xây dựng bằng bàn tay hùng mạnh của mình mà đã cống hiến cả cuộc đời mình cho nghệ thuật quản lý nhà nước và hạnh phúc của thần dân. Ước nguyện duy nhất của anh ấy là được sống lại, cho chính anh ấy lần này bằng cách trao đổi linh hồn của mình vào tương lai. Nữ thần bảo trợ của anh, Alistia, nghe thấy lời cầu xin của anh và mỉm cười với anh. Tại buổi lễ trưởng thành đầu tiên của Inglis vào năm 6 tuổi, cô ấy được cho là không đủ tư cách để bắt đầu phong tước hiệp sĩ của mình. Tuy nhiên, với một phụ nữ có tham vọng như Inglis, đây không phải là một trở ngại mà là một thách thức để vượt qua. Bức màn mở ra truyền thuyết về Inglis là một nữ cận vệ phi thường được tái sinh để làm chủ của thanh kiếm. Đó không phải là máu trong huyết quản của bạn mà là bạn đổ ra trên chiến trường đã tạo nên một hiệp sĩ.',\n",
       " 'genre': 'Hoạt hình'}"
      ]
     },
     "execution_count": 119,
     "metadata": {},
     "output_type": "execute_result"
    }
   ],
   "source": [
    "movie_list = page.find_class(\"TPost C post-943 post type-post status-publish format-standard has-post-thumbnail hentry\")\n",
    "movie = movie_list[0]\n",
    "parse_anime_article(movie)"
   ]
  },
  {
   "cell_type": "code",
   "execution_count": 215,
   "id": "0bac5d10",
   "metadata": {},
   "outputs": [],
   "source": [
    "def get_entry_point(info_page):\n",
    "    panel = info_page.find_class(\"InfoList\")[0]\n",
    "    first_link = panel.xpath('//li[@class=\"AAIco-adjust latest_eps\"]/a[@href]/@href')\n",
    "    return first_link\n",
    "def get_chapter_links(watch_page):\n",
    "    panel = watch_page.find_class(\"list-episode tab-pane ABList\")[0]\n",
    "    links = panel.xpath('.//li/a[@href]')\n",
    "    return [(a.text.strip() if a.text else '',base_url+  a.get('href')) for a in links]\n",
    "\n",
    "\n",
    "def get_watch_link(film_detail_url:str, chapter):\n",
    "    return film_detail_url.replace(\"phim\", \"xem-phim\") + str(chapter)\n"
   ]
  },
  {
   "cell_type": "code",
   "execution_count": 223,
   "id": "acf23d30",
   "metadata": {},
   "outputs": [
    {
     "data": {
      "text/plain": [
       "'/xem-phim/mou-ippon/13'"
      ]
     },
     "execution_count": 223,
     "metadata": {},
     "output_type": "execute_result"
    }
   ],
   "source": [
    "def get_valid_watch_link(links):\n",
    "    for link in links:\n",
    "        if link[-1] != '/':\n",
    "            return link\n",
    "    return None\n",
    "\n",
    "links = ['/xem-phim/mou-ippon/', '/xem-phim/mou-ippon/13', '/xem-phim/mou-ippon/12']\n",
    "get_valid_watch_link(links)"
   ]
  },
  {
   "cell_type": "code",
   "execution_count": 228,
   "id": "61248e4b",
   "metadata": {},
   "outputs": [
    {
     "name": "stdout",
     "output_type": "stream",
     "text": [
      "[INFO] Processing page 1/193\n",
      "  [INFO] Anime 1/20 on page 1\n",
      "  [INFO] Anime 2/20 on page 1\n",
      "  [INFO] Anime 3/20 on page 1\n",
      "  [INFO] Anime 4/20 on page 1\n",
      "  [INFO] Anime 5/20 on page 1\n",
      "  [INFO] Anime 6/20 on page 1\n",
      "  [INFO] Anime 7/20 on page 1\n",
      "  [INFO] Anime 8/20 on page 1\n",
      "  [INFO] Anime 9/20 on page 1\n",
      "  [INFO] Anime 10/20 on page 1\n",
      "  [INFO] Anime 11/20 on page 1\n",
      "  [INFO] Anime 12/20 on page 1\n",
      "  [INFO] Anime 13/20 on page 1\n",
      "  [INFO] Anime 14/20 on page 1\n",
      "  [INFO] Anime 15/20 on page 1\n",
      "  [INFO] Anime 16/20 on page 1\n"
     ]
    },
    {
     "ename": "KeyboardInterrupt",
     "evalue": "",
     "output_type": "error",
     "traceback": [
      "\u001b[31m---------------------------------------------------------------------------\u001b[39m",
      "\u001b[31mKeyboardInterrupt\u001b[39m                         Traceback (most recent call last)",
      "\u001b[36mCell\u001b[39m\u001b[36m \u001b[39m\u001b[32mIn[228]\u001b[39m\u001b[32m, line 39\u001b[39m\n\u001b[32m     37\u001b[39m episode = {}\n\u001b[32m     38\u001b[39m \u001b[38;5;28;01mtry\u001b[39;00m:\n\u001b[32m---> \u001b[39m\u001b[32m39\u001b[39m     watch_page = html.fromstring(\u001b[43mrequests\u001b[49m\u001b[43m.\u001b[49m\u001b[43mget\u001b[49m\u001b[43m(\u001b[49m\u001b[43mwatch_link\u001b[49m\u001b[43m)\u001b[49m.text)\n\u001b[32m     40\u001b[39m     mirrors = extract_mirrors(watch_page)\n\u001b[32m     41\u001b[39m     episode[\u001b[33m\"\u001b[39m\u001b[33mep\u001b[39m\u001b[33m\"\u001b[39m] = episode_num\n",
      "\u001b[36mFile \u001b[39m\u001b[32mc:\\Users\\minhh\\Downloads\\Projects\\Quick Common side projects for cv\\anime scrapper\\.venv\\Lib\\site-packages\\requests\\api.py:73\u001b[39m, in \u001b[36mget\u001b[39m\u001b[34m(url, params, **kwargs)\u001b[39m\n\u001b[32m     62\u001b[39m \u001b[38;5;28;01mdef\u001b[39;00m\u001b[38;5;250m \u001b[39m\u001b[34mget\u001b[39m(url, params=\u001b[38;5;28;01mNone\u001b[39;00m, **kwargs):\n\u001b[32m     63\u001b[39m \u001b[38;5;250m    \u001b[39m\u001b[33mr\u001b[39m\u001b[33;03m\"\"\"Sends a GET request.\u001b[39;00m\n\u001b[32m     64\u001b[39m \n\u001b[32m     65\u001b[39m \u001b[33;03m    :param url: URL for the new :class:`Request` object.\u001b[39;00m\n\u001b[32m   (...)\u001b[39m\u001b[32m     70\u001b[39m \u001b[33;03m    :rtype: requests.Response\u001b[39;00m\n\u001b[32m     71\u001b[39m \u001b[33;03m    \"\"\"\u001b[39;00m\n\u001b[32m---> \u001b[39m\u001b[32m73\u001b[39m     \u001b[38;5;28;01mreturn\u001b[39;00m \u001b[43mrequest\u001b[49m\u001b[43m(\u001b[49m\u001b[33;43m\"\u001b[39;49m\u001b[33;43mget\u001b[39;49m\u001b[33;43m\"\u001b[39;49m\u001b[43m,\u001b[49m\u001b[43m \u001b[49m\u001b[43murl\u001b[49m\u001b[43m,\u001b[49m\u001b[43m \u001b[49m\u001b[43mparams\u001b[49m\u001b[43m=\u001b[49m\u001b[43mparams\u001b[49m\u001b[43m,\u001b[49m\u001b[43m \u001b[49m\u001b[43m*\u001b[49m\u001b[43m*\u001b[49m\u001b[43mkwargs\u001b[49m\u001b[43m)\u001b[49m\n",
      "\u001b[36mFile \u001b[39m\u001b[32mc:\\Users\\minhh\\Downloads\\Projects\\Quick Common side projects for cv\\anime scrapper\\.venv\\Lib\\site-packages\\requests\\api.py:59\u001b[39m, in \u001b[36mrequest\u001b[39m\u001b[34m(method, url, **kwargs)\u001b[39m\n\u001b[32m     55\u001b[39m \u001b[38;5;66;03m# By using the 'with' statement we are sure the session is closed, thus we\u001b[39;00m\n\u001b[32m     56\u001b[39m \u001b[38;5;66;03m# avoid leaving sockets open which can trigger a ResourceWarning in some\u001b[39;00m\n\u001b[32m     57\u001b[39m \u001b[38;5;66;03m# cases, and look like a memory leak in others.\u001b[39;00m\n\u001b[32m     58\u001b[39m \u001b[38;5;28;01mwith\u001b[39;00m sessions.Session() \u001b[38;5;28;01mas\u001b[39;00m session:\n\u001b[32m---> \u001b[39m\u001b[32m59\u001b[39m     \u001b[38;5;28;01mreturn\u001b[39;00m \u001b[43msession\u001b[49m\u001b[43m.\u001b[49m\u001b[43mrequest\u001b[49m\u001b[43m(\u001b[49m\u001b[43mmethod\u001b[49m\u001b[43m=\u001b[49m\u001b[43mmethod\u001b[49m\u001b[43m,\u001b[49m\u001b[43m \u001b[49m\u001b[43murl\u001b[49m\u001b[43m=\u001b[49m\u001b[43murl\u001b[49m\u001b[43m,\u001b[49m\u001b[43m \u001b[49m\u001b[43m*\u001b[49m\u001b[43m*\u001b[49m\u001b[43mkwargs\u001b[49m\u001b[43m)\u001b[49m\n",
      "\u001b[36mFile \u001b[39m\u001b[32mc:\\Users\\minhh\\Downloads\\Projects\\Quick Common side projects for cv\\anime scrapper\\.venv\\Lib\\site-packages\\requests\\sessions.py:589\u001b[39m, in \u001b[36mSession.request\u001b[39m\u001b[34m(self, method, url, params, data, headers, cookies, files, auth, timeout, allow_redirects, proxies, hooks, stream, verify, cert, json)\u001b[39m\n\u001b[32m    584\u001b[39m send_kwargs = {\n\u001b[32m    585\u001b[39m     \u001b[33m\"\u001b[39m\u001b[33mtimeout\u001b[39m\u001b[33m\"\u001b[39m: timeout,\n\u001b[32m    586\u001b[39m     \u001b[33m\"\u001b[39m\u001b[33mallow_redirects\u001b[39m\u001b[33m\"\u001b[39m: allow_redirects,\n\u001b[32m    587\u001b[39m }\n\u001b[32m    588\u001b[39m send_kwargs.update(settings)\n\u001b[32m--> \u001b[39m\u001b[32m589\u001b[39m resp = \u001b[38;5;28;43mself\u001b[39;49m\u001b[43m.\u001b[49m\u001b[43msend\u001b[49m\u001b[43m(\u001b[49m\u001b[43mprep\u001b[49m\u001b[43m,\u001b[49m\u001b[43m \u001b[49m\u001b[43m*\u001b[49m\u001b[43m*\u001b[49m\u001b[43msend_kwargs\u001b[49m\u001b[43m)\u001b[49m\n\u001b[32m    591\u001b[39m \u001b[38;5;28;01mreturn\u001b[39;00m resp\n",
      "\u001b[36mFile \u001b[39m\u001b[32mc:\\Users\\minhh\\Downloads\\Projects\\Quick Common side projects for cv\\anime scrapper\\.venv\\Lib\\site-packages\\requests\\sessions.py:703\u001b[39m, in \u001b[36mSession.send\u001b[39m\u001b[34m(self, request, **kwargs)\u001b[39m\n\u001b[32m    700\u001b[39m start = preferred_clock()\n\u001b[32m    702\u001b[39m \u001b[38;5;66;03m# Send the request\u001b[39;00m\n\u001b[32m--> \u001b[39m\u001b[32m703\u001b[39m r = \u001b[43madapter\u001b[49m\u001b[43m.\u001b[49m\u001b[43msend\u001b[49m\u001b[43m(\u001b[49m\u001b[43mrequest\u001b[49m\u001b[43m,\u001b[49m\u001b[43m \u001b[49m\u001b[43m*\u001b[49m\u001b[43m*\u001b[49m\u001b[43mkwargs\u001b[49m\u001b[43m)\u001b[49m\n\u001b[32m    705\u001b[39m \u001b[38;5;66;03m# Total elapsed time of the request (approximately)\u001b[39;00m\n\u001b[32m    706\u001b[39m elapsed = preferred_clock() - start\n",
      "\u001b[36mFile \u001b[39m\u001b[32mc:\\Users\\minhh\\Downloads\\Projects\\Quick Common side projects for cv\\anime scrapper\\.venv\\Lib\\site-packages\\requests\\adapters.py:644\u001b[39m, in \u001b[36mHTTPAdapter.send\u001b[39m\u001b[34m(self, request, stream, timeout, verify, cert, proxies)\u001b[39m\n\u001b[32m    641\u001b[39m     timeout = TimeoutSauce(connect=timeout, read=timeout)\n\u001b[32m    643\u001b[39m \u001b[38;5;28;01mtry\u001b[39;00m:\n\u001b[32m--> \u001b[39m\u001b[32m644\u001b[39m     resp = \u001b[43mconn\u001b[49m\u001b[43m.\u001b[49m\u001b[43murlopen\u001b[49m\u001b[43m(\u001b[49m\n\u001b[32m    645\u001b[39m \u001b[43m        \u001b[49m\u001b[43mmethod\u001b[49m\u001b[43m=\u001b[49m\u001b[43mrequest\u001b[49m\u001b[43m.\u001b[49m\u001b[43mmethod\u001b[49m\u001b[43m,\u001b[49m\n\u001b[32m    646\u001b[39m \u001b[43m        \u001b[49m\u001b[43murl\u001b[49m\u001b[43m=\u001b[49m\u001b[43murl\u001b[49m\u001b[43m,\u001b[49m\n\u001b[32m    647\u001b[39m \u001b[43m        \u001b[49m\u001b[43mbody\u001b[49m\u001b[43m=\u001b[49m\u001b[43mrequest\u001b[49m\u001b[43m.\u001b[49m\u001b[43mbody\u001b[49m\u001b[43m,\u001b[49m\n\u001b[32m    648\u001b[39m \u001b[43m        \u001b[49m\u001b[43mheaders\u001b[49m\u001b[43m=\u001b[49m\u001b[43mrequest\u001b[49m\u001b[43m.\u001b[49m\u001b[43mheaders\u001b[49m\u001b[43m,\u001b[49m\n\u001b[32m    649\u001b[39m \u001b[43m        \u001b[49m\u001b[43mredirect\u001b[49m\u001b[43m=\u001b[49m\u001b[38;5;28;43;01mFalse\u001b[39;49;00m\u001b[43m,\u001b[49m\n\u001b[32m    650\u001b[39m \u001b[43m        \u001b[49m\u001b[43massert_same_host\u001b[49m\u001b[43m=\u001b[49m\u001b[38;5;28;43;01mFalse\u001b[39;49;00m\u001b[43m,\u001b[49m\n\u001b[32m    651\u001b[39m \u001b[43m        \u001b[49m\u001b[43mpreload_content\u001b[49m\u001b[43m=\u001b[49m\u001b[38;5;28;43;01mFalse\u001b[39;49;00m\u001b[43m,\u001b[49m\n\u001b[32m    652\u001b[39m \u001b[43m        \u001b[49m\u001b[43mdecode_content\u001b[49m\u001b[43m=\u001b[49m\u001b[38;5;28;43;01mFalse\u001b[39;49;00m\u001b[43m,\u001b[49m\n\u001b[32m    653\u001b[39m \u001b[43m        \u001b[49m\u001b[43mretries\u001b[49m\u001b[43m=\u001b[49m\u001b[38;5;28;43mself\u001b[39;49m\u001b[43m.\u001b[49m\u001b[43mmax_retries\u001b[49m\u001b[43m,\u001b[49m\n\u001b[32m    654\u001b[39m \u001b[43m        \u001b[49m\u001b[43mtimeout\u001b[49m\u001b[43m=\u001b[49m\u001b[43mtimeout\u001b[49m\u001b[43m,\u001b[49m\n\u001b[32m    655\u001b[39m \u001b[43m        \u001b[49m\u001b[43mchunked\u001b[49m\u001b[43m=\u001b[49m\u001b[43mchunked\u001b[49m\u001b[43m,\u001b[49m\n\u001b[32m    656\u001b[39m \u001b[43m    \u001b[49m\u001b[43m)\u001b[49m\n\u001b[32m    658\u001b[39m \u001b[38;5;28;01mexcept\u001b[39;00m (ProtocolError, \u001b[38;5;167;01mOSError\u001b[39;00m) \u001b[38;5;28;01mas\u001b[39;00m err:\n\u001b[32m    659\u001b[39m     \u001b[38;5;28;01mraise\u001b[39;00m \u001b[38;5;167;01mConnectionError\u001b[39;00m(err, request=request)\n",
      "\u001b[36mFile \u001b[39m\u001b[32mc:\\Users\\minhh\\Downloads\\Projects\\Quick Common side projects for cv\\anime scrapper\\.venv\\Lib\\site-packages\\urllib3\\connectionpool.py:787\u001b[39m, in \u001b[36murlopen\u001b[39m\u001b[34m(self, method, url, body, headers, retries, redirect, assert_same_host, timeout, pool_timeout, release_conn, chunked, body_pos, preload_content, decode_content, **response_kw)\u001b[39m\n\u001b[32m    771\u001b[39m     return (\n\u001b[32m    772\u001b[39m         \"wrong version number\" in message\n\u001b[32m    773\u001b[39m         or \"unknown protocol\" in message\n\u001b[32m    774\u001b[39m         or \"record layer failure\" in message\n\u001b[32m    775\u001b[39m     )\n\u001b[32m    777\u001b[39m # Try to detect a common user error with proxies which is to\n\u001b[32m    778\u001b[39m # set an HTTP proxy to be HTTPS when it should be 'http://'\n\u001b[32m    779\u001b[39m # (ie {'http': 'http://proxy', 'https': 'https://proxy'})\n\u001b[32m    780\u001b[39m # Instead we add a nice error message and point to a URL.\n\u001b[32m    781\u001b[39m if (\n\u001b[32m    782\u001b[39m     isinstance(e, BaseSSLError)\n\u001b[32m    783\u001b[39m     and self.proxy\n\u001b[32m    784\u001b[39m     and _is_ssl_error_message_from_http_proxy(e)\n\u001b[32m    785\u001b[39m     and conn.proxy\n\u001b[32m    786\u001b[39m     and conn.proxy.scheme == \"https\"\n\u001b[32m--> \u001b[39m\u001b[32m787\u001b[39m ):\n\u001b[32m    788\u001b[39m     e = ProxyError(\n\u001b[32m    789\u001b[39m         \"Your proxy appears to only use HTTP and not HTTPS, \"\n\u001b[32m    790\u001b[39m         \"try changing your proxy URL to be HTTP. See: \"\n\u001b[32m   (...)\u001b[39m\u001b[32m    793\u001b[39m         SSLError(e),\n\u001b[32m    794\u001b[39m     )\n\u001b[32m    795\u001b[39m elif isinstance(e, (BaseSSLError, CertificateError)):\n",
      "\u001b[36mFile \u001b[39m\u001b[32mc:\\Users\\minhh\\Downloads\\Projects\\Quick Common side projects for cv\\anime scrapper\\.venv\\Lib\\site-packages\\urllib3\\connectionpool.py:534\u001b[39m, in \u001b[36m_make_request\u001b[39m\u001b[34m(self, conn, method, url, body, headers, retries, timeout, chunked, response_conn, preload_content, decode_content, enforce_content_length)\u001b[39m\n\u001b[32m      0\u001b[39m <Error retrieving source code with stack_data see ipython/ipython#13598>\n",
      "\u001b[36mFile \u001b[39m\u001b[32mc:\\Users\\minhh\\Downloads\\Projects\\Quick Common side projects for cv\\anime scrapper\\.venv\\Lib\\site-packages\\urllib3\\connection.py:565\u001b[39m, in \u001b[36mgetresponse\u001b[39m\u001b[34m(self)\u001b[39m\n\u001b[32m    562\u001b[39m \u001b[38;5;28;01mclass\u001b[39;00m\u001b[38;5;250m \u001b[39m\u001b[34;01mDummyConnection\u001b[39;00m(\u001b[38;5;28mobject\u001b[39m):\n\u001b[32m    563\u001b[39m \u001b[38;5;250m    \u001b[39m\u001b[33;03m\"\"\"Used to detect a failed ConnectionCls import.\"\"\"\u001b[39;00m\n\u001b[32m--> \u001b[39m\u001b[32m565\u001b[39m     \u001b[38;5;28;01mpass\u001b[39;00m\n",
      "\u001b[36mFile \u001b[39m\u001b[32m~\\AppData\\Local\\Programs\\Python\\Python313\\Lib\\http\\client.py:1430\u001b[39m, in \u001b[36mHTTPConnection.getresponse\u001b[39m\u001b[34m(self)\u001b[39m\n\u001b[32m   1428\u001b[39m \u001b[38;5;28;01mtry\u001b[39;00m:\n\u001b[32m   1429\u001b[39m     \u001b[38;5;28;01mtry\u001b[39;00m:\n\u001b[32m-> \u001b[39m\u001b[32m1430\u001b[39m         \u001b[43mresponse\u001b[49m\u001b[43m.\u001b[49m\u001b[43mbegin\u001b[49m\u001b[43m(\u001b[49m\u001b[43m)\u001b[49m\n\u001b[32m   1431\u001b[39m     \u001b[38;5;28;01mexcept\u001b[39;00m \u001b[38;5;167;01mConnectionError\u001b[39;00m:\n\u001b[32m   1432\u001b[39m         \u001b[38;5;28mself\u001b[39m.close()\n",
      "\u001b[36mFile \u001b[39m\u001b[32m~\\AppData\\Local\\Programs\\Python\\Python313\\Lib\\http\\client.py:331\u001b[39m, in \u001b[36mHTTPResponse.begin\u001b[39m\u001b[34m(self)\u001b[39m\n\u001b[32m    329\u001b[39m \u001b[38;5;66;03m# read until we get a non-100 response\u001b[39;00m\n\u001b[32m    330\u001b[39m \u001b[38;5;28;01mwhile\u001b[39;00m \u001b[38;5;28;01mTrue\u001b[39;00m:\n\u001b[32m--> \u001b[39m\u001b[32m331\u001b[39m     version, status, reason = \u001b[38;5;28;43mself\u001b[39;49m\u001b[43m.\u001b[49m\u001b[43m_read_status\u001b[49m\u001b[43m(\u001b[49m\u001b[43m)\u001b[49m\n\u001b[32m    332\u001b[39m     \u001b[38;5;28;01mif\u001b[39;00m status != CONTINUE:\n\u001b[32m    333\u001b[39m         \u001b[38;5;28;01mbreak\u001b[39;00m\n",
      "\u001b[36mFile \u001b[39m\u001b[32m~\\AppData\\Local\\Programs\\Python\\Python313\\Lib\\http\\client.py:292\u001b[39m, in \u001b[36mHTTPResponse._read_status\u001b[39m\u001b[34m(self)\u001b[39m\n\u001b[32m    291\u001b[39m \u001b[38;5;28;01mdef\u001b[39;00m\u001b[38;5;250m \u001b[39m\u001b[34m_read_status\u001b[39m(\u001b[38;5;28mself\u001b[39m):\n\u001b[32m--> \u001b[39m\u001b[32m292\u001b[39m     line = \u001b[38;5;28mstr\u001b[39m(\u001b[38;5;28;43mself\u001b[39;49m\u001b[43m.\u001b[49m\u001b[43mfp\u001b[49m\u001b[43m.\u001b[49m\u001b[43mreadline\u001b[49m\u001b[43m(\u001b[49m\u001b[43m_MAXLINE\u001b[49m\u001b[43m \u001b[49m\u001b[43m+\u001b[49m\u001b[43m \u001b[49m\u001b[32;43m1\u001b[39;49m\u001b[43m)\u001b[49m, \u001b[33m\"\u001b[39m\u001b[33miso-8859-1\u001b[39m\u001b[33m\"\u001b[39m)\n\u001b[32m    293\u001b[39m     \u001b[38;5;28;01mif\u001b[39;00m \u001b[38;5;28mlen\u001b[39m(line) > _MAXLINE:\n\u001b[32m    294\u001b[39m         \u001b[38;5;28;01mraise\u001b[39;00m LineTooLong(\u001b[33m\"\u001b[39m\u001b[33mstatus line\u001b[39m\u001b[33m\"\u001b[39m)\n",
      "\u001b[36mFile \u001b[39m\u001b[32m~\\AppData\\Local\\Programs\\Python\\Python313\\Lib\\socket.py:719\u001b[39m, in \u001b[36mSocketIO.readinto\u001b[39m\u001b[34m(self, b)\u001b[39m\n\u001b[32m    717\u001b[39m     \u001b[38;5;28;01mraise\u001b[39;00m \u001b[38;5;167;01mOSError\u001b[39;00m(\u001b[33m\"\u001b[39m\u001b[33mcannot read from timed out object\u001b[39m\u001b[33m\"\u001b[39m)\n\u001b[32m    718\u001b[39m \u001b[38;5;28;01mtry\u001b[39;00m:\n\u001b[32m--> \u001b[39m\u001b[32m719\u001b[39m     \u001b[38;5;28;01mreturn\u001b[39;00m \u001b[38;5;28;43mself\u001b[39;49m\u001b[43m.\u001b[49m\u001b[43m_sock\u001b[49m\u001b[43m.\u001b[49m\u001b[43mrecv_into\u001b[49m\u001b[43m(\u001b[49m\u001b[43mb\u001b[49m\u001b[43m)\u001b[49m\n\u001b[32m    720\u001b[39m \u001b[38;5;28;01mexcept\u001b[39;00m timeout:\n\u001b[32m    721\u001b[39m     \u001b[38;5;28mself\u001b[39m._timeout_occurred = \u001b[38;5;28;01mTrue\u001b[39;00m\n",
      "\u001b[36mFile \u001b[39m\u001b[32m~\\AppData\\Local\\Programs\\Python\\Python313\\Lib\\ssl.py:1304\u001b[39m, in \u001b[36mSSLSocket.recv_into\u001b[39m\u001b[34m(self, buffer, nbytes, flags)\u001b[39m\n\u001b[32m   1300\u001b[39m     \u001b[38;5;28;01mif\u001b[39;00m flags != \u001b[32m0\u001b[39m:\n\u001b[32m   1301\u001b[39m         \u001b[38;5;28;01mraise\u001b[39;00m \u001b[38;5;167;01mValueError\u001b[39;00m(\n\u001b[32m   1302\u001b[39m           \u001b[33m\"\u001b[39m\u001b[33mnon-zero flags not allowed in calls to recv_into() on \u001b[39m\u001b[38;5;132;01m%s\u001b[39;00m\u001b[33m\"\u001b[39m %\n\u001b[32m   1303\u001b[39m           \u001b[38;5;28mself\u001b[39m.\u001b[34m__class__\u001b[39m)\n\u001b[32m-> \u001b[39m\u001b[32m1304\u001b[39m     \u001b[38;5;28;01mreturn\u001b[39;00m \u001b[38;5;28;43mself\u001b[39;49m\u001b[43m.\u001b[49m\u001b[43mread\u001b[49m\u001b[43m(\u001b[49m\u001b[43mnbytes\u001b[49m\u001b[43m,\u001b[49m\u001b[43m \u001b[49m\u001b[43mbuffer\u001b[49m\u001b[43m)\u001b[49m\n\u001b[32m   1305\u001b[39m \u001b[38;5;28;01melse\u001b[39;00m:\n\u001b[32m   1306\u001b[39m     \u001b[38;5;28;01mreturn\u001b[39;00m \u001b[38;5;28msuper\u001b[39m().recv_into(buffer, nbytes, flags)\n",
      "\u001b[36mFile \u001b[39m\u001b[32m~\\AppData\\Local\\Programs\\Python\\Python313\\Lib\\ssl.py:1138\u001b[39m, in \u001b[36mSSLSocket.read\u001b[39m\u001b[34m(self, len, buffer)\u001b[39m\n\u001b[32m   1136\u001b[39m \u001b[38;5;28;01mtry\u001b[39;00m:\n\u001b[32m   1137\u001b[39m     \u001b[38;5;28;01mif\u001b[39;00m buffer \u001b[38;5;129;01mis\u001b[39;00m \u001b[38;5;129;01mnot\u001b[39;00m \u001b[38;5;28;01mNone\u001b[39;00m:\n\u001b[32m-> \u001b[39m\u001b[32m1138\u001b[39m         \u001b[38;5;28;01mreturn\u001b[39;00m \u001b[38;5;28;43mself\u001b[39;49m\u001b[43m.\u001b[49m\u001b[43m_sslobj\u001b[49m\u001b[43m.\u001b[49m\u001b[43mread\u001b[49m\u001b[43m(\u001b[49m\u001b[38;5;28;43mlen\u001b[39;49m\u001b[43m,\u001b[49m\u001b[43m \u001b[49m\u001b[43mbuffer\u001b[49m\u001b[43m)\u001b[49m\n\u001b[32m   1139\u001b[39m     \u001b[38;5;28;01melse\u001b[39;00m:\n\u001b[32m   1140\u001b[39m         \u001b[38;5;28;01mreturn\u001b[39;00m \u001b[38;5;28mself\u001b[39m._sslobj.read(\u001b[38;5;28mlen\u001b[39m)\n",
      "\u001b[31mKeyboardInterrupt\u001b[39m: "
     ]
    }
   ],
   "source": [
    "import json\n",
    "\n",
    "MAX_PAGE = 193\n",
    "SAVE_EVERY_PAGES = 1\n",
    "exception = []\n",
    "episode_get_exception = []\n",
    "movies = []\n",
    "\n",
    "for page_num in range(MAX_PAGE):\n",
    "    print(f\"[INFO] Processing page {page_num+1}/{MAX_PAGE}\")\n",
    "    \n",
    "    page = get_page_link(page_num)\n",
    "    page = requests.get(page).text\n",
    "    page = html.fromstring(page)\n",
    "    animes = get_animes_in_page(page)\n",
    "    \n",
    "    for idx, anime in enumerate(animes):\n",
    "        print(f\"  [INFO] Anime {idx+1}/{len(animes)} on page {page_num+1}\")\n",
    "        info = parse_anime_article(anime)\n",
    "        link = info['link']\n",
    "        try:\n",
    "            anime_page = requests.get(link).text\n",
    "            anime_page = html.fromstring(anime_page)\n",
    "            entry_points = get_entry_point(anime_page)\n",
    "            entry_point = get_valid_watch_link(entry_points)\n",
    "            if entry_point is None:\n",
    "                exception.append({\"error\": \"no entry_point\", \"link\" : link})\n",
    "                continue\n",
    "\n",
    "            entry_point = base_url + entry_point\n",
    "            entry_point = requests.get(entry_point).text\n",
    "            entry_point = html.fromstring(entry_point)\n",
    "            chapter_links = get_chapter_links(entry_point)\n",
    "            episodes = []\n",
    "\n",
    "            for episode_num, watch_link in chapter_links:\n",
    "                episode = {}\n",
    "                try:\n",
    "                    watch_page = html.fromstring(requests.get(watch_link).text)\n",
    "                    mirrors = extract_mirrors(watch_page)\n",
    "                    episode[\"ep\"] = episode_num\n",
    "                    episode[\"mirrors\"] = mirrors\n",
    "                    episodes.append(episode)\n",
    "                except Exception as e:\n",
    "                    print(f\"    [ERROR] Episode {episode_num} failed: {e}\")\n",
    "                    episode_get_exception.append({\"error\": str(e), \"anime\": link, \"episode\": episode_num})\n",
    "\n",
    "            info['episodes'] = episodes\n",
    "            movies.append(info)\n",
    "\n",
    "            # Write progress after each anime\n",
    "            with open(\"movies.json\", \"w\", encoding=\"utf-8\") as f:\n",
    "                json.dump(movies, f, ensure_ascii=False, indent=2)\n",
    "\n",
    "        except Exception as e:\n",
    "            print(f\"  [ERROR] Anime failed: {e}\")\n",
    "            exception.append({\"error\": str(e), \"link\": link})\n",
    "\n"
   ]
  },
  {
   "cell_type": "code",
   "execution_count": 226,
   "id": "35ca223b",
   "metadata": {},
   "outputs": [
    {
     "data": {
      "text/plain": [
       "[{'link': 'https://wibu47.com/phim/eiyuu-ou-bu-o-kiwameru-tame-tensei-su-soshite-sekai-saikyou-no-minarai-kishi/',\n",
       "  'thumbnail': 'https://wibu47.com/images/3694.jpg',\n",
       "  'episode': 'TẬP',\n",
       "  'rating': '8.6',\n",
       "  'title': 'Eiyuu-ou, bu o Kiwameru tame tensei su - Soshite, Sekai Saikyou no Minarai Kishi ♀~',\n",
       "  'views': '33,408',\n",
       "  'quality': 'HD',\n",
       "  'vote': '9.3',\n",
       "  'time': '06/12',\n",
       "  'date': '2023',\n",
       "  'description': 'Từ trên giường bệnh, Vua anh hùng Inglis đã nhìn xuống đế chế mà anh đã xây dựng bằng bàn tay hùng mạnh của mình mà đã cống hiến cả cuộc đời mình cho nghệ thuật quản lý nhà nước và hạnh phúc của thần dân. Ước nguyện duy nhất của anh ấy là được sống lại, cho chính anh ấy lần này bằng cách trao đổi linh hồn của mình vào tương lai. Nữ thần bảo trợ của anh, Alistia, nghe thấy lời cầu xin của anh và mỉm cười với anh. Tại buổi lễ trưởng thành đầu tiên của Inglis vào năm 6 tuổi, cô ấy được cho là không đủ tư cách để bắt đầu phong tước hiệp sĩ của mình. Tuy nhiên, với một phụ nữ có tham vọng như Inglis, đây không phải là một trở ngại mà là một thách thức để vượt qua. Bức màn mở ra truyền thuyết về Inglis là một nữ cận vệ phi thường được tái sinh để làm chủ của thanh kiếm. Đó không phải là máu trong huyết quản của bạn mà là bạn đổ ra trên chiến trường đã tạo nên một hiệp sĩ.',\n",
       "  'genre': 'Hoạt hình',\n",
       "  'episodes': [{'ep': '1',\n",
       "    'mirrors': {'HYDRAX': 'https://playhydrax.com/?v=8wkkSeq7G'}},\n",
       "   {'ep': '2', 'mirrors': {'HYDRAX': 'https://playhydrax.com/?v=2-POv_Z5U'}},\n",
       "   {'ep': '3', 'mirrors': {'HYDRAX': 'https://playhydrax.com/?v=2wMT2E6MN'}},\n",
       "   {'ep': '4', 'mirrors': {'HYDRAX': 'https://playhydrax.com/?v=F5aKDSaERf'}},\n",
       "   {'ep': '5', 'mirrors': {'HYDRAX': 'https://playhydrax.com/?v=mrqKg4OKa'}},\n",
       "   {'ep': '6', 'mirrors': {'HYDRAX': 'https://playhydrax.com/?v=3SPG4m1jI'}},\n",
       "   {'ep': '7', 'mirrors': {'HYDRAX': 'https://playhydrax.com/?v=dxi2DkMfi'}},\n",
       "   {'ep': '8', 'mirrors': {'HYDRAX': 'https://playhydrax.com/?v=HfXZ4m4VZ'}},\n",
       "   {'ep': '9', 'mirrors': {'HYDRAX': 'https://playhydrax.com/?v=dIhRNcQmM'}},\n",
       "   {'ep': '10', 'mirrors': {'HYDRAX': 'https://playhydrax.com/?v=OzgqCb-qA'}},\n",
       "   {'ep': '11', 'mirrors': {'HYDRAX': 'https://playhydrax.com/?v=PIzrYrCYQ'}},\n",
       "   {'ep': '12',\n",
       "    'mirrors': {'HYDRAX': 'https://playhydrax.com/?v=OORUkGqMI'}}]},\n",
       " {'link': 'https://wibu47.com/phim/mou-ippon/',\n",
       "  'thumbnail': 'https://wibu47.com/images/3701.jpg',\n",
       "  'episode': 'TẬP',\n",
       "  'rating': '4.9',\n",
       "  'title': 'Mou Ippon!',\n",
       "  'views': '46,643',\n",
       "  'quality': 'HD',\n",
       "  'vote': '9.3',\n",
       "  'time': '06/12',\n",
       "  'date': '2023',\n",
       "  'description': 'Truyện kể câu chuyện về Michi Sonoda, một cậu bé dự định bỏ judo sau khi kết thúc giải đấu của cô ở trường trung học. Tuy nhiên, bạn thân nhất của cô, Sanae Takigawa, đã thực sự mời cô để tiếp tục tham gia judo tại trường trung học.',\n",
       "  'genre': 'Hoạt hình',\n",
       "  'episodes': [{'ep': '1',\n",
       "    'mirrors': {'HYDRAX': 'https://playhydrax.com/?v=p7H7b-X5p',\n",
       "     'VPRO': 'https://embed1.streamc.xyz/embed.php?hash=583bee2ec9e1929d89cef5a548e3badf',\n",
       "     'AHS': 'https://hls1.streamc.xyz/583bee2ec9e1929d89cef5a548e3badf/hls.m3u8'}},\n",
       "   {'ep': '2',\n",
       "    'mirrors': {'HYDRAX': 'https://playhydrax.com/?v=E9p4MmSqX',\n",
       "     'VPRO': 'https://embed1.streamc.xyz/embed.php?hash=293239830ca596300856a078e4c7b00b',\n",
       "     'AHS': 'https://hls1.streamc.xyz/293239830ca596300856a078e4c7b00b/hls.m3u8'}},\n",
       "   {'ep': '3',\n",
       "    'mirrors': {'HYDRAX': 'https://playhydrax.com/?v=k0RnghnJn0',\n",
       "     'VPRO': 'https://embed1.streamc.xyz/embed.php?hash=9a4c1c0dd4d3c4628f2d738c40e0e83a',\n",
       "     'AHS': 'https://hls1.streamc.xyz/9a4c1c0dd4d3c4628f2d738c40e0e83a/hls.m3u8'}},\n",
       "   {'ep': '4',\n",
       "    'mirrors': {'HYDRAX': 'https://playhydrax.com/?v=tttOPFYWm',\n",
       "     'VPRO': 'https://embed1.streamc.xyz/embed.php?hash=5c687e90ea576c3811b6d4779deeee33',\n",
       "     'AHS': 'https://hls1.streamc.xyz/5c687e90ea576c3811b6d4779deeee33/hls.m3u8'}},\n",
       "   {'ep': '5',\n",
       "    'mirrors': {'HYDRAX': 'https://playhydrax.com/?v=Uc2b_WN4g',\n",
       "     'VPRO': 'https://embed1.streamc.xyz/embed.php?hash=fb8435f224e07a28b6054b9a286c3cbc',\n",
       "     'AHS': 'https://hls1.streamc.xyz/fb8435f224e07a28b6054b9a286c3cbc/hls.m3u8'}},\n",
       "   {'ep': '6',\n",
       "    'mirrors': {'HYDRAX': 'https://playhydrax.com/?v=QoAU6bp2S',\n",
       "     'VPRO': 'https://embed1.streamc.xyz/embed.php?hash=634c65a288b2eab6941fdd3ad75fec8e',\n",
       "     'AHS': 'https://hls1.streamc.xyz/634c65a288b2eab6941fdd3ad75fec8e/hls.m3u8'}},\n",
       "   {'ep': '7',\n",
       "    'mirrors': {'HYDRAX': 'https://playhydrax.com/?v=t4jw_tIYN',\n",
       "     'VPRO': 'https://embed1.streamc.xyz/embed.php?hash=88b2e155efdcedb85d83417cf2e410bf',\n",
       "     'AHS': 'https://hls1.streamc.xyz/88b2e155efdcedb85d83417cf2e410bf/hls.m3u8'}},\n",
       "   {'ep': '8',\n",
       "    'mirrors': {'HYDRAX': 'https://playhydrax.com/?v=gYN8ugK4j',\n",
       "     'VPRO': 'https://embed1.streamc.xyz/embed.php?hash=4037ab771fb4839495428add76cd749d',\n",
       "     'AHS': 'https://hls1.streamc.xyz/4037ab771fb4839495428add76cd749d/hls.m3u8'}},\n",
       "   {'ep': '9',\n",
       "    'mirrors': {'HYDRAX': 'https://playhydrax.com/?v=QmERtvZgY',\n",
       "     'VPRO': 'https://embed1.streamc.xyz/embed.php?hash=324ed41d60bd39dbb59a2901aa21cb8f',\n",
       "     'AHS': 'https://hls1.streamc.xyz/324ed41d60bd39dbb59a2901aa21cb8f/hls.m3u8'}},\n",
       "   {'ep': '10',\n",
       "    'mirrors': {'HYDRAX': 'https://playhydrax.com/?v=K1HyfR7cC',\n",
       "     'VPRO': 'https://embed1.streamc.xyz/embed.php?hash=8555e56aa0708e9525345419b7e2ed40',\n",
       "     'AHS': 'https://hls1.streamc.xyz/8555e56aa0708e9525345419b7e2ed40/hls.m3u8'}},\n",
       "   {'ep': '11',\n",
       "    'mirrors': {'HYDRAX': 'https://playhydrax.com/?v=kcVfIQG-5',\n",
       "     'VPRO': 'https://embed1.streamc.xyz/embed.php?hash=a722fb4d7e9e4790d41c15e60de2c682',\n",
       "     'AHS': 'https://hls1.streamc.xyz/a722fb4d7e9e4790d41c15e60de2c682/hls.m3u8'}},\n",
       "   {'ep': '12',\n",
       "    'mirrors': {'HYDRAX': 'https://playhydrax.com/?v=nbnpIyztS',\n",
       "     'VPRO': 'https://embed1.streamc.xyz/embed.php?hash=6fda43f261efeeafa6496a199bb5628c',\n",
       "     'AHS': 'https://hls1.streamc.xyz/6fda43f261efeeafa6496a199bb5628c/hls.m3u8'}},\n",
       "   {'ep': '13',\n",
       "    'mirrors': {'HYDRAX': 'https://playhydrax.com/?v=gLohlurqk',\n",
       "     'VPRO': 'https://embed1.streamc.xyz/embed.php?hash=8f33b7cc1ea326a04809fec813868869',\n",
       "     'AHS': 'https://hls1.streamc.xyz/8f33b7cc1ea326a04809fec813868869/hls.m3u8'}},\n",
       "   {'ep': '', 'mirrors': {}}]}]"
      ]
     },
     "execution_count": 226,
     "metadata": {},
     "output_type": "execute_result"
    }
   ],
   "source": [
    "movies"
   ]
  }
 ],
 "metadata": {
  "kernelspec": {
   "display_name": ".venv",
   "language": "python",
   "name": "python3"
  },
  "language_info": {
   "codemirror_mode": {
    "name": "ipython",
    "version": 3
   },
   "file_extension": ".py",
   "mimetype": "text/x-python",
   "name": "python",
   "nbconvert_exporter": "python",
   "pygments_lexer": "ipython3",
   "version": "3.13.6"
  }
 },
 "nbformat": 4,
 "nbformat_minor": 5
}
